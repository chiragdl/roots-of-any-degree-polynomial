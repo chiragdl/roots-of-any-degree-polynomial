{
 "cells": [
  {
   "cell_type": "markdown",
   "id": "284df43c",
   "metadata": {},
   "source": [
    "### 2. program to find all roots from any degree polynomial"
   ]
  },
  {
   "cell_type": "code",
   "execution_count": 3,
   "id": "ae58e823",
   "metadata": {},
   "outputs": [],
   "source": [
    "import numpy as np"
   ]
  },
  {
   "cell_type": "code",
   "execution_count": 23,
   "id": "90ef8fb7",
   "metadata": {},
   "outputs": [
    {
     "name": "stdout",
     "output_type": "stream",
     "text": [
      "2\n",
      "1\n",
      "1\n",
      "1\n"
     ]
    }
   ],
   "source": [
    "# x^4 + 5X^3 + 9X^2 +7X +2\n",
    "coefficent = [1,5,9,7,2]\n",
    "root = np.roots(coefficent)\n",
    "for i in root:\n",
    "    i = abs(i)\n",
    "    print(round(i))"
   ]
  },
  {
   "cell_type": "code",
   "execution_count": 24,
   "id": "1980ed1b",
   "metadata": {},
   "outputs": [
    {
     "name": "stdout",
     "output_type": "stream",
     "text": [
      "3\n",
      "2\n",
      "1\n",
      "1\n"
     ]
    }
   ],
   "source": [
    "# X^4 + 7X^3 + 17X^2 + 17X + 6\n",
    "coefficent = [1,7,17,17,6]\n",
    "root = np.roots(coefficent)\n",
    "for i in root:\n",
    "    i = abs(i)\n",
    "    print(round(i))"
   ]
  },
  {
   "cell_type": "code",
   "execution_count": null,
   "id": "616c1432",
   "metadata": {},
   "outputs": [],
   "source": []
  }
 ],
 "metadata": {
  "kernelspec": {
   "display_name": "Python 3 (ipykernel)",
   "language": "python",
   "name": "python3"
  },
  "language_info": {
   "codemirror_mode": {
    "name": "ipython",
    "version": 3
   },
   "file_extension": ".py",
   "mimetype": "text/x-python",
   "name": "python",
   "nbconvert_exporter": "python",
   "pygments_lexer": "ipython3",
   "version": "3.9.13"
  }
 },
 "nbformat": 4,
 "nbformat_minor": 5
}
